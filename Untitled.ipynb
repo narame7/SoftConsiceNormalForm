{
 "cells": [
  {
   "cell_type": "code",
   "execution_count": 1,
   "metadata": {},
   "outputs": [],
   "source": [
    "import glob"
   ]
  },
  {
   "cell_type": "code",
   "execution_count": 2,
   "metadata": {},
   "outputs": [],
   "source": [
    "files = glob.glob('./benchmarks/*')"
   ]
  },
  {
   "cell_type": "code",
   "execution_count": 3,
   "metadata": {},
   "outputs": [],
   "source": [
    "for file in files:\n",
    "    f = open(file, 'r') \n",
    "    lines = f.readlines()        \n",
    "    description = ''\n",
    "    index = 0\n",
    "    pos = []\n",
    "    neg = []\n",
    "    \n",
    "    while lines[index].strip() != '++':\n",
    "        description += lines[index].strip() + ' '\n",
    "        index += 1\n",
    "    \n",
    "    index += 1\n",
    "    while lines[index].strip() != '--':\n",
    "        pos.append(lines[index].strip())\n",
    "        index += 1\n",
    "        \n",
    "    index += 1\n",
    "    while index < len(lines):\n",
    "        neg.append(lines[index].strip())       \n",
    "        index += 1"
   ]
  },
  {
   "cell_type": "code",
   "execution_count": 9,
   "metadata": {},
   "outputs": [
    {
     "data": {
      "text/plain": [
       "'202012-1313-5821-'"
      ]
     },
     "execution_count": 9,
     "metadata": {},
     "output_type": "execute_result"
    }
   ],
   "source": [
    "from datetime import datetime\n",
    "\n",
    "eventid = datetime.now().strftime('%Y%m-%d%H-%M%S-')\n",
    "eventid"
   ]
  },
  {
   "cell_type": "code",
   "execution_count": 5,
   "metadata": {},
   "outputs": [
    {
     "data": {
      "text/plain": [
       "['00', '100', '001', '0010', '1001', '11001', '00101', '001100', '1001011']"
      ]
     },
     "execution_count": 5,
     "metadata": {},
     "output_type": "execute_result"
    }
   ],
   "source": [
    "neg"
   ]
  },
  {
   "cell_type": "code",
   "execution_count": 6,
   "metadata": {},
   "outputs": [],
   "source": [
    "benchmark = {0:[[],[],'null'],\n",
    "                     1:[['0','00','001'],['1','11','101','100'],'start with 0, 0(0+1)*'],\n",
    "                     2:[['01','001','1001'],['00','11','100','000','110','011'], 'end with 01, (0+1)*01'],\n",
    "                     3:[['0101','001011','00010110'],['0','1','10','010','1110','1011','1011','1111','0010'], 'substring 0101, (0+1)*0101(0+1)*'],\n",
    "                     4:[['10','110','1000', '11110'],['0','1','11','101','010','001'],'begin 1 end 0, 1(0+1)*0'],\n",
    "                     5:[['110','1001','01001'],['1','01','101','0010'],'length at least 3 and third = 0, (0+1)(0+1)0(0+1)*'],\n",
    "                     6:[['111','000','101','011','101101','110110','000111','101011'],['1','01','0','00','1111','1010','10110'],'lenis3mul, ((0+1)(0+1)(0+1))*']\n",
    "                     }"
   ]
  },
  {
   "cell_type": "code",
   "execution_count": 7,
   "metadata": {},
   "outputs": [
    {
     "data": {
      "text/plain": [
       "7"
      ]
     },
     "execution_count": 7,
     "metadata": {},
     "output_type": "execute_result"
    }
   ],
   "source": [
    "len(benchmark)"
   ]
  },
  {
   "cell_type": "code",
   "execution_count": 2,
   "metadata": {},
   "outputs": [],
   "source": [
    "import re2"
   ]
  },
  {
   "cell_type": "code",
   "execution_count": null,
   "metadata": {},
   "outputs": [],
   "source": [
    "bool(re2.fullmatch('0(0|1)*', '011'))"
   ]
  },
  {
   "cell_type": "code",
   "execution_count": null,
   "metadata": {},
   "outputs": [],
   "source": []
  }
 ],
 "metadata": {
  "kernelspec": {
   "display_name": "Python 3",
   "language": "python",
   "name": "python3"
  },
  "language_info": {
   "codemirror_mode": {
    "name": "ipython",
    "version": 3
   },
   "file_extension": ".py",
   "mimetype": "text/x-python",
   "name": "python",
   "nbconvert_exporter": "python",
   "pygments_lexer": "ipython3",
   "version": "3.6.12"
  }
 },
 "nbformat": 4,
 "nbformat_minor": 4
}
